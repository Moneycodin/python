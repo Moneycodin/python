{
 "cells": [
  {
   "cell_type": "code",
   "execution_count": 10,
   "id": "d124ddba",
   "metadata": {},
   "outputs": [
    {
     "name": "stdout",
     "output_type": "stream",
     "text": [
      "the string is: Gagan\n",
      "final name: Ggn\n"
     ]
    }
   ],
   "source": [
    "#program to create a new string made of an input string’s first, middle, and last character\n",
    "name=\"Gagan\"\n",
    "print(\"the string is:\", name)\n",
    "newname=name[0]\n",
    "length=len(name)\n",
    "middle=int(length/2)\n",
    "newname=newname+name[middle]\n",
    "newname=newname+name[length-1]\n",
    "print(\"final name:\", newname)\n"
   ]
  },
  {
   "cell_type": "code",
   "execution_count": 14,
   "id": "03077ac8",
   "metadata": {},
   "outputs": [
    {
     "name": "stdout",
     "output_type": "stream",
     "text": [
      "full string is: Gagan\n",
      "middle name is: aga\n"
     ]
    }
   ],
   "source": [
    "#program to create a new string made of the middle three characters of an input string.\n",
    "name=\"Gagan\"\n",
    "print(\"full string is:\", name)\n",
    "length=len(name)\n",
    "middle=int(length/2)\n",
    "newname=name[middle-1:middle+2]\n",
    "print(\"middle name is:\",newname)\n"
   ]
  },
  {
   "cell_type": "code",
   "execution_count": 16,
   "id": "034ef5df",
   "metadata": {},
   "outputs": [
    {
     "name": "stdout",
     "output_type": "stream",
     "text": [
      "original string are: Manmeet Kaur\n",
      "After appending new string in middle : ManKaurmeet\n"
     ]
    }
   ],
   "source": [
    "#append new string in middle of new string\n",
    "def append_middle(s1,s2):\n",
    "    print(\"original string are:\", s1,s2)\n",
    "    mi=int(len(s1)/2)\n",
    "    x=s1[:mi:]\n",
    "    x=x+s2\n",
    "    x=x+s1[mi:]\n",
    "    print(\"After appending new string in middle :\",x)\n",
    "    \n",
    "append_middle(\"Manmeet\", \"Kaur\")\n",
    "    "
   ]
  },
  {
   "cell_type": "code",
   "execution_count": null,
   "id": "7277059b",
   "metadata": {},
   "outputs": [],
   "source": []
  }
 ],
 "metadata": {
  "kernelspec": {
   "display_name": "Python 3 (ipykernel)",
   "language": "python",
   "name": "python3"
  },
  "language_info": {
   "codemirror_mode": {
    "name": "ipython",
    "version": 3
   },
   "file_extension": ".py",
   "mimetype": "text/x-python",
   "name": "python",
   "nbconvert_exporter": "python",
   "pygments_lexer": "ipython3",
   "version": "3.9.7"
  }
 },
 "nbformat": 4,
 "nbformat_minor": 5
}
