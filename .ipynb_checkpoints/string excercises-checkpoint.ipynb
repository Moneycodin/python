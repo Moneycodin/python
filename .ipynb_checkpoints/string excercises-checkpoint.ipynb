{
 "cells": [
  {
   "cell_type": "code",
   "execution_count": 10,
   "id": "e8664d7f",
   "metadata": {},
   "outputs": [
    {
     "name": "stdout",
     "output_type": "stream",
     "text": [
      "the string is: Gagan\n",
      "final name: Ggn\n"
     ]
    }
   ],
   "source": [
    "#program to create a new string made of an input string’s first, middle, and last character\n",
    "name=\"Gagan\"\n",
    "print(\"the string is:\", name)\n",
    "newname=name[0]\n",
    "length=len(name)\n",
    "middle=int(length/2)\n",
    "newname=newname+name[middle]\n",
    "newname=newname+name[length-1]\n",
    "print(\"final name:\", newname)\n"
   ]
  },
  {
   "cell_type": "code",
   "execution_count": null,
   "id": "5d55761b",
   "metadata": {},
   "outputs": [],
   "source": [
    "#program to create a new string made of the middle three characters of an input string."
   ]
  },
  {
   "cell_type": "code",
   "execution_count": null,
   "id": "3b406040",
   "metadata": {},
   "outputs": [],
   "source": []
  }
 ],
 "metadata": {
  "kernelspec": {
   "display_name": "Python 3 (ipykernel)",
   "language": "python",
   "name": "python3"
  },
  "language_info": {
   "codemirror_mode": {
    "name": "ipython",
    "version": 3
   },
   "file_extension": ".py",
   "mimetype": "text/x-python",
   "name": "python",
   "nbconvert_exporter": "python",
   "pygments_lexer": "ipython3",
   "version": "3.9.7"
  }
 },
 "nbformat": 4,
 "nbformat_minor": 5
}
