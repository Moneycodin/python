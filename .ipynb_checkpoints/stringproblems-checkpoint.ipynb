{
 "cells": [
  {
   "cell_type": "code",
   "execution_count": 3,
   "id": "debf5451",
   "metadata": {},
   "outputs": [
    {
     "name": "stdout",
     "output_type": "stream",
     "text": [
      "mix string is: tmlids\n"
     ]
    }
   ],
   "source": [
    "def mix_string(s1,s2):\n",
    "    first_char=s1[0]+s2[0]\n",
    "    middle_char=s1[int(len(s1)/2):int(len(s1)/2)+1]+s2[int(len(s2)/2):int(len(s2)/2)+1]\n",
    "    last_char=s1[len(s1)-1]+s2[len(s2)-1]\n",
    "    res=first_char+middle_char+last_char\n",
    "    print(\"mix string is:\", res)\n",
    "s1=\"thailand\"\n",
    "s2=\"maldives\"\n",
    "mix_string(s1,s2)"
   ]
  },
  {
   "cell_type": "code",
   "execution_count": 6,
   "id": "660d058f",
   "metadata": {},
   "outputs": [
    {
     "name": "stdout",
     "output_type": "stream",
     "text": [
      "original string is: ManmeeT\n",
      "Result: anmeeMT\n"
     ]
    }
   ],
   "source": [
    "str1=\"ManmeeT\"\n",
    "print('original string is:',str1)\n",
    "lower=[]\n",
    "upper=[]\n",
    "for char in str1:\n",
    "    if char.islower():\n",
    "        lower.append(char)\n",
    "    else:\n",
    "        upper.append(char)\n",
    "sorted_str=''.join(lower+upper)\n",
    "print('Result:', sorted_str)\n",
    "        \n",
    "        "
   ]
  },
  {
   "cell_type": "code",
   "execution_count": 9,
   "id": "c6c33129",
   "metadata": {},
   "outputs": [
    {
     "name": "stdout",
     "output_type": "stream",
     "text": [
      "total counts of digits is\n",
      "characters  count is= 7 \n",
      "digits count is 4 \n",
      "symbo count is= 3\n"
     ]
    }
   ],
   "source": [
    "def countsymbol(strings):\n",
    "    count_char=0\n",
    "    count_num=0\n",
    "    count_symbol=0\n",
    "    for char in strings:\n",
    "        if char.isalpha():\n",
    "            count_char+=1\n",
    "        elif char.isdigit():\n",
    "            count_num+=1\n",
    "        else:\n",
    "            count_symbol+=1\n",
    "    print(\"characters  count is=\",count_char,\"\\ndigits count is\", count_num, \"\\nsymbo count is=\", count_symbol)\n",
    "strings=\"manmeet2021@@#\"\n",
    "print(\"total counts of digits is\")\n",
    "countsymbol(strings)"
   ]
  },
  {
   "cell_type": "code",
   "execution_count": null,
   "id": "68e14c51",
   "metadata": {},
   "outputs": [],
   "source": []
  }
 ],
 "metadata": {
  "kernelspec": {
   "display_name": "Python 3 (ipykernel)",
   "language": "python",
   "name": "python3"
  },
  "language_info": {
   "codemirror_mode": {
    "name": "ipython",
    "version": 3
   },
   "file_extension": ".py",
   "mimetype": "text/x-python",
   "name": "python",
   "nbconvert_exporter": "python",
   "pygments_lexer": "ipython3",
   "version": "3.9.7"
  }
 },
 "nbformat": 4,
 "nbformat_minor": 5
}
