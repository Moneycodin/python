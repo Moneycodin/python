{
 "cells": [
  {
   "cell_type": "code",
   "execution_count": 17,
   "id": "0ea82252",
   "metadata": {},
   "outputs": [
    {
     "name": "stdout",
     "output_type": "stream",
     "text": [
      "enter a number20\n",
      "2\n",
      "0\n",
      "2\n"
     ]
    }
   ],
   "source": [
    "#calculating total number of digits in number\n",
    "a=int(input(\"enter a number\"))\n",
    "x=0\n",
    "while(a>0):\n",
    "    a=a//10\n",
    "    print(a)\n",
    "    x=x+1\n",
    "print(x)\n"
   ]
  },
  {
   "cell_type": "code",
   "execution_count": 1,
   "id": "6083c35a",
   "metadata": {},
   "outputs": [
    {
     "name": "stdout",
     "output_type": "stream",
     "text": [
      "1\n",
      "2\n",
      "3\n",
      "4\n",
      "5\n",
      "6\n",
      "7\n",
      "8\n",
      "9\n",
      "10\n"
     ]
    }
   ],
   "source": [
    "\n",
    "#program to print first 10 natural number using while loop\n",
    "i=1\n",
    "while(i<=10):\n",
    "    print(i)\n",
    "    i=i+1"
   ]
  },
  {
   "cell_type": "code",
   "execution_count": 2,
   "id": "d777a7cf",
   "metadata": {},
   "outputs": [
    {
     "name": "stdout",
     "output_type": "stream",
     "text": [
      "1  \n",
      "1 2  \n",
      "1 2 3  \n",
      "1 2 3 4  \n",
      "1 2 3 4 5  \n"
     ]
    }
   ],
   "source": [
    "#program to print pattern\n",
    "#1\n",
    "#1 2\n",
    "#1 2 3\n",
    "#1 2 3 4\n",
    "#1 2 3 4 5\n",
    "#first deciding number of rows\n",
    "row=5\n",
    "for i in range(1,row+1,1):\n",
    "    # this i=1 is starting row, then increament, then starting number\n",
    "    for j in range(1,i+1):\n",
    "        print(j, end=' ')\n",
    "    print(\" \")"
   ]
  },
  {
   "cell_type": "code",
   "execution_count": 3,
   "id": "7d6dd7b7",
   "metadata": {},
   "outputs": [
    {
     "name": "stdout",
     "output_type": "stream",
     "text": [
      "Enter the number4\n",
      "sum of the number is 10\n"
     ]
    }
   ],
   "source": [
    "#program to calculate the sum of all numbers from 1 to a given number\n",
    "x=int(input(\"Enter the number\"))\n",
    "s=sum(range(1,x+1))\n",
    "print(\"sum of the number is\",s)"
   ]
  },
  {
   "cell_type": "code",
   "execution_count": 5,
   "id": "1217f3e4",
   "metadata": {},
   "outputs": [
    {
     "name": "stdout",
     "output_type": "stream",
     "text": [
      "Enter a number6\n",
      "product is 6\n",
      "product is 12\n",
      "product is 18\n",
      "product is 24\n",
      "product is 30\n",
      "product is 36\n",
      "product is 42\n",
      "product is 48\n",
      "product is 54\n",
      "product is 60\n",
      "product is 66\n",
      "product is 72\n",
      "product is 78\n",
      "product is 84\n",
      "product is 90\n",
      "product is 96\n",
      "product is 102\n",
      "product is 108\n",
      "product is 114\n",
      "product is 120\n"
     ]
    }
   ],
   "source": [
    "#write a program to print multiplication table of given number\n",
    "x=int(input(\"Enter a number\"))\n",
    "y=20\n",
    "for i in range(1,y+1,1):\n",
    "    print(\"product is\",x*i)\n"
   ]
  },
  {
   "cell_type": "code",
   "execution_count": 28,
   "id": "fa870b92",
   "metadata": {},
   "outputs": [
    {
     "name": "stdout",
     "output_type": "stream",
     "text": [
      "5 4 3 2 1 \n",
      "4 3 2 1 \n",
      "3 2 1 \n",
      "2 1 \n",
      "1 \n",
      "\n"
     ]
    }
   ],
   "source": [
    "#print the following pattern\n",
    "#5 4 3 2 1\n",
    "#4 3 2 1\n",
    "#3 2 1\n",
    "#2 1\n",
    "#1\n",
    "row=5\n",
    "num=5\n",
    "for i in range(0,row+1,1):\n",
    "    for j in range(num-i,0,-1):\n",
    "        print(j, end=' ')\n",
    "    print()"
   ]
  },
  {
   "cell_type": "code",
   "execution_count": 34,
   "id": "c213e543",
   "metadata": {},
   "outputs": [
    {
     "name": "stdout",
     "output_type": "stream",
     "text": [
      "5\n",
      "4\n",
      "3\n",
      "2\n",
      "1\n"
     ]
    }
   ],
   "source": [
    "#printing list in reverse order using loop\n",
    "lst=[1, 2, 3, 4, 5]\n",
    "newlist=reversed(lst)\n",
    "for items in newlist:\n",
    "    print(items)\n",
    "\n"
   ]
  },
  {
   "cell_type": "code",
   "execution_count": 42,
   "id": "6b3b15cc",
   "metadata": {},
   "outputs": [
    {
     "name": "stdout",
     "output_type": "stream",
     "text": [
      "-10\n",
      "-9\n",
      "-8\n",
      "-7\n",
      "-6\n",
      "-5\n",
      "-4\n",
      "-3\n",
      "-2\n",
      "-1\n"
     ]
    }
   ],
   "source": [
    "#printing 10 to -1\n",
    "i=-10\n",
    "while(i<=-1):\n",
    "    print(i)\n",
    "    i=i+1\n",
    "    \n"
   ]
  },
  {
   "cell_type": "code",
   "execution_count": 3,
   "id": "9d5341af",
   "metadata": {},
   "outputs": [
    {
     "name": "stdout",
     "output_type": "stream",
     "text": [
      "0\n",
      "1\n",
      "2\n",
      "3\n",
      "4\n",
      "DONE\n"
     ]
    }
   ],
   "source": [
    "#DISPLAYING DONE AFTER LOOP\n",
    "for i in range(5):\n",
    "    print(i)\n",
    "else:\n",
    "print(\"DONE\")\n"
   ]
  },
  {
   "cell_type": "code",
   "execution_count": 6,
   "id": "28fe5119",
   "metadata": {},
   "outputs": [
    {
     "name": "stdout",
     "output_type": "stream",
     "text": [
      "23\n",
      "29\n",
      "31\n",
      "37\n"
     ]
    }
   ],
   "source": [
    "#displaying all prime numbers within a range of numbers\n",
    "start=20\n",
    "end=40\n",
    "for num in range(start, end+1):\n",
    "    if num > 1:\n",
    "        for i in range(2,num):\n",
    "            if (num%i)==0:\n",
    "                break\n",
    "        else:\n",
    "            print(num)\n",
    "    \n",
    "    "
   ]
  },
  {
   "cell_type": "code",
   "execution_count": 13,
   "id": "aa1bca6a",
   "metadata": {},
   "outputs": [
    {
     "name": "stdout",
     "output_type": "stream",
     "text": [
      "fibonacci series is\n",
      "0\n",
      "1\n",
      "1\n",
      "2\n",
      "3\n",
      "5\n",
      "8\n",
      "13\n",
      "21\n",
      "34\n"
     ]
    }
   ],
   "source": [
    "#displaying fibonacci series upto 10\n",
    "a, b=0,1\n",
    "print(\"fibonacci series is\")\n",
    "for i in range(10):\n",
    "    print(a)\n",
    "    c=a+b\n",
    "    a=b\n",
    "    b=c"
   ]
  },
  {
   "cell_type": "code",
   "execution_count": 35,
   "id": "0e3a7efd",
   "metadata": {},
   "outputs": [
    {
     "name": "stdout",
     "output_type": "stream",
     "text": [
      "enter a number3\n",
      "the fatorial of 3 is 6\n"
     ]
    }
   ],
   "source": [
    "#finding factorial of given number\n",
    "n=int(input(\"enter a number\"))\n",
    "\n",
    "def factorial(n):\n",
    "    p=1\n",
    "    while(1==1):\n",
    "        if (n<0):\n",
    "            return 0\n",
    "        elif (n==0) or (n==1):\n",
    "            return p\n",
    "        else:\n",
    "            p=p*n\n",
    "            n=n-1\n",
    "print(\"the fatorial of\",n,\"is\",factorial(n))\n",
    "            "
   ]
  },
  {
   "cell_type": "code",
   "execution_count": 69,
   "id": "b3263079",
   "metadata": {},
   "outputs": [
    {
     "name": "stdout",
     "output_type": "stream",
     "text": [
      "enter a number3\n",
      "the factorial of 3 is 6\n"
     ]
    }
   ],
   "source": [
    "n=int(input(\"enter a number\"))\n",
    "factorial=1\n",
    "if(n<0):\n",
    "    print(\"factorial is\",0)\n",
    "elif(n==0) or (n==1):\n",
    "    print(\"factorial is\",1)\n",
    "else:\n",
    "    for i in range(1,n+1):\n",
    "        factorial = factorial*i\n",
    "    print(\"the factorial of\",n,\"is\",factorial)\n",
    "    \n",
    "    "
   ]
  },
  {
   "cell_type": "code",
   "execution_count": 7,
   "id": "c598598c",
   "metadata": {},
   "outputs": [
    {
     "name": "stdout",
     "output_type": "stream",
     "text": [
      "\n",
      "\n",
      "1 \n",
      "\n",
      "2 2 \n",
      "\n",
      "3 3 3 \n",
      "\n",
      "4 4 4 4 \n",
      "\n"
     ]
    }
   ],
   "source": [
    "for num in range(5):\n",
    "    for i in range(1,num+1,1):\n",
    "        print(num,end=\" \")\n",
    "    print(\"\\n\")\n",
    "    "
   ]
  },
  {
   "cell_type": "code",
   "execution_count": 14,
   "id": "8267271b",
   "metadata": {},
   "outputs": [
    {
     "name": "stdout",
     "output_type": "stream",
     "text": [
      "original number 12321\n",
      "it is palindrome\n",
      "original number 12345\n",
      "it is not palindrome\n"
     ]
    }
   ],
   "source": [
    "def palindrome(number):\n",
    "    print(\"original number\", number)\n",
    "    original_num=number\n",
    "    reverse_num=0\n",
    "    while(number>0):\n",
    "        remainder=number%10\n",
    "        reverse_num=(reverse_num*10)+remainder\n",
    "        number=number//10\n",
    "    if original_num==reverse_num:\n",
    "        print(\"it is palindrome\")\n",
    "    else:\n",
    "        print(\"it is not palindrome\")\n",
    "    \n",
    "palindrome(12321)\n",
    "palindrome(12345)"
   ]
  },
  {
   "cell_type": "code",
   "execution_count": 30,
   "id": "121cbee0",
   "metadata": {},
   "outputs": [
    {
     "name": "stdout",
     "output_type": "stream",
     "text": [
      "the final list is: [1, 3, 5, 8, 10]\n"
     ]
    }
   ],
   "source": [
    "#creating final list which contains odd number from one list and even from other\n",
    "\n",
    "\n",
    "def merge_list(list1,list2):\n",
    "    list3=[ ]\n",
    "    for element in list1:\n",
    "        if element % 2!=0:\n",
    "            list3.append(element)\n",
    "    for element in list2:\n",
    "        if element%2==0:\n",
    "            list3.append(element)\n",
    "    return list3\n",
    "print(\"the final list is:\", merge_list(list1,list2))\n",
    "list1=[1,2,3,4,5]\n",
    "list2=[7,8,9,10]           "
   ]
  },
  {
   "cell_type": "code",
   "execution_count": 35,
   "id": "30d1f3de",
   "metadata": {},
   "outputs": [
    {
     "name": "stdout",
     "output_type": "stream",
     "text": [
      "enter the income:\n",
      "30000\n",
      "income tax is:\n",
      " 3000.0\n"
     ]
    }
   ],
   "source": [
    "salary=int(input((\"enter the income:\\n\")))\n",
    "incometax=0\n",
    "if salary<=10000:\n",
    "    incometax=0\n",
    "elif salary>10000 and salary<=20000:\n",
    "    incometax=(salary-10000)*10/100\n",
    "else:\n",
    "    #for first 10000\n",
    "    incometax=0\n",
    "    #upto 20000\n",
    "    incometax+=(10000*10)/100\n",
    "    #above 20000\n",
    "    incometax+=(salary-20000)*20/100\n",
    "print(\"income tax is:\\n\", incometax)\n",
    "    "
   ]
  },
  {
   "cell_type": "code",
   "execution_count": 43,
   "id": "ed68cf15",
   "metadata": {},
   "outputs": [
    {
     "name": "stdout",
     "output_type": "stream",
     "text": [
      "1 2 3 4 5 6 7 8 9 10 \t\n",
      "2 4 6 8 10 12 14 16 18 20 \t\n",
      "3 6 9 12 15 18 21 24 27 30 \t\n",
      "4 8 12 16 20 24 28 32 36 40 \t\n",
      "5 10 15 20 25 30 35 40 45 50 \t\n",
      "6 12 18 24 30 36 42 48 54 60 \t\n",
      "7 14 21 28 35 42 49 56 63 70 \t\n",
      "8 16 24 32 40 48 56 64 72 80 \t\n",
      "9 18 27 36 45 54 63 72 81 90 \t\n",
      "10 20 30 40 50 60 70 80 90 100 \t\n"
     ]
    }
   ],
   "source": [
    "#multiplication table printing\n",
    "for i in range(1,11,1):\n",
    "    for j in range(1,11,1):\n",
    "        print(i*j, end=\" \")\n",
    "    print(\"\\t\")"
   ]
  },
  {
   "cell_type": "code",
   "execution_count": null,
   "id": "bfd3e11a",
   "metadata": {},
   "outputs": [],
   "source": []
  }
 ],
 "metadata": {
  "kernelspec": {
   "display_name": "Python 3 (ipykernel)",
   "language": "python",
   "name": "python3"
  },
  "language_info": {
   "codemirror_mode": {
    "name": "ipython",
    "version": 3
   },
   "file_extension": ".py",
   "mimetype": "text/x-python",
   "name": "python",
   "nbconvert_exporter": "python",
   "pygments_lexer": "ipython3",
   "version": "3.9.7"
  }
 },
 "nbformat": 4,
 "nbformat_minor": 5
}
