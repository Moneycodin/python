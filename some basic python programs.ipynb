{
 "cells": [
  {
   "cell_type": "code",
   "execution_count": 4,
   "id": "87664fe3",
   "metadata": {},
   "outputs": [
    {
     "name": "stdout",
     "output_type": "stream",
     "text": [
      "enter two numbers 5 10\n",
      "addition of numbers is 15\n",
      "multition of numbers is 50\n"
     ]
    }
   ],
   "source": [
    "#calculation of sum and multiplication of two number\n",
    "a=5\n",
    "b=10\n",
    "print(\"enter two numbers\", a,b)\n",
    "print(\"addition of numbers is\",a+b)\n",
    "print(\"multition of numbers is\",a*b)"
   ]
  },
  {
   "cell_type": "code",
   "execution_count": 9,
   "id": "5bc1122a",
   "metadata": {},
   "outputs": [
    {
     "name": "stdout",
     "output_type": "stream",
     "text": [
      "print enter the first number200\n",
      "print enter the second number10\n",
      "2000\n"
     ]
    }
   ],
   "source": [
    "#Given two integer numbers return their product only if the product is equal to or lower than 1000, else return their sum.\n",
    "a=int(input(\"print enter the first number\"))\n",
    "b=int(input(\"print enter the second number\"))\n",
    "if((a*b)>1000):\n",
    "    print(a*b)\n",
    "else:\n",
    "        print(a+b)"
   ]
  },
  {
   "cell_type": "code",
   "execution_count": 14,
   "id": "600ec48b",
   "metadata": {},
   "outputs": [
    {
     "name": "stdout",
     "output_type": "stream",
     "text": [
      "previous number: 0 current number: 1 sum: 1\n",
      "previous number: 1 current number: 2 sum: 3\n",
      "previous number: 2 current number: 3 sum: 5\n",
      "previous number: 3 current number: 4 sum: 7\n",
      "previous number: 4 current number: 5 sum: 9\n",
      "previous number: 5 current number: 6 sum: 11\n",
      "previous number: 6 current number: 7 sum: 13\n",
      "previous number: 7 current number: 8 sum: 15\n",
      "previous number: 8 current number: 9 sum: 17\n",
      "previous number: 9 current number: 10 sum: 19\n"
     ]
    }
   ],
   "source": [
    "#program to iterate the first 10 numbers and in each iteration, print the sum of the current and previous number.\n",
    "first_number=0\n",
    "for i in range(1,11,1):\n",
    "    sum=first_number+i\n",
    "    print(\"previous number:\",first_number, \"current number:\", i, \"sum:\", sum)\n",
    "    first_number=i\n",
    "    "
   ]
  },
  {
   "cell_type": "code",
   "execution_count": 34,
   "id": "1f86eb39",
   "metadata": {},
   "outputs": [
    {
     "name": "stdout",
     "output_type": "stream",
     "text": [
      "enter a stringmoney\n",
      "the string is money\n",
      "length of string is 5\n",
      "o\n",
      "e\n"
     ]
    }
   ],
   "source": [
    "#program to accept a string from the user and display characters that are present at an even index number.\n",
    "st=input(\"enter a string\")\n",
    "print(\"the string is\",st)\n",
    "print(\"length of string is\",len(st))\n",
    "size=len(st)\n",
    "for i in range(1,size-1,2):\n",
    "    print(st[i])\n"
   ]
  },
  {
   "cell_type": "code",
   "execution_count": 44,
   "id": "a554bc67",
   "metadata": {},
   "outputs": [
    {
     "name": "stdout",
     "output_type": "stream",
     "text": [
      "enter a stringmoney\n",
      "o\n",
      "e\n"
     ]
    }
   ],
   "source": [
    "#program to display number with slice listing\n",
    "#here we convert string to list\n",
    "k=input(\"enter a string\")\n",
    "x=list(k)\n",
    "for i in x[1::2]:\n",
    "    print(i)"
   ]
  },
  {
   "cell_type": "code",
   "execution_count": 61,
   "id": "c9b3a4f9",
   "metadata": {},
   "outputs": [
    {
     "name": "stdout",
     "output_type": "stream",
     "text": [
      "enter a stringjohn\n",
      "enter the number of characters to be removed1\n",
      "the string is: john\n",
      "new string is: ohn\n"
     ]
    }
   ],
   "source": [
    "#program to remove characters from a string starting from zero up to n and return a new string.\n",
    "k=input(\"enter a string\")\n",
    "def chardrop(k,i):\n",
    "    print(\"the string is:\",k)\n",
    "    return''.join([k[i] for i in range(p, len(k))])\n",
    "p=int(input(\"enter the number of characters to be removed\"))\n",
    "new_string=chardrop(k,i)\n",
    "print(\"new string is:\",new_string)\n",
    "    "
   ]
  },
  {
   "cell_type": "code",
   "execution_count": 73,
   "id": "cfeeaac7",
   "metadata": {},
   "outputs": [
    {
     "name": "stdout",
     "output_type": "stream",
     "text": [
      "the list is: [3, 2, 3, 4, 1]\n",
      "the result is: False\n",
      "the list is: [2, 4, 5, 6, 2]\n",
      "the result is: True\n"
     ]
    }
   ],
   "source": [
    "#program a function to return True if the first and last number of a given list is same. If numbers are different then return Falsa\n",
    "def first_last_no_same(nolist):\n",
    "    print(\"the list is:\",nolist)\n",
    "    firstno=nolist[0]\n",
    "    lastno=nolist[-1]\n",
    "    if firstno==lastno:\n",
    "        return True\n",
    "    else:\n",
    "        return False\n",
    "list1=[3,2,3,4,1]\n",
    "print(\"the result is:\" ,first_last_no_same(list1))\n",
    "list2=[2,4,5,6,2]\n",
    "print(\"the result is:\" ,first_last_no_same(list2))\n",
    "\n"
   ]
  },
  {
   "cell_type": "code",
   "execution_count": 78,
   "id": "84dffed8",
   "metadata": {},
   "outputs": [
    {
     "name": "stdout",
     "output_type": "stream",
     "text": [
      "25\n",
      "10\n",
      "30\n"
     ]
    }
   ],
   "source": [
    "#program to Iterate the given list of numbers and print only those numbers which are divisible by 5\n",
    "list=[25,23,10,6,30]\n",
    "for i in list:\n",
    "    if i%5==0:\n",
    "        print(i)\n",
    "    "
   ]
  },
  {
   "cell_type": "code",
   "execution_count": 95,
   "id": "6649ec25",
   "metadata": {},
   "outputs": [
    {
     "name": "stdout",
     "output_type": "stream",
     "text": [
      "no of times substring appear is: 3\n"
     ]
    }
   ],
   "source": [
    "#program to find how many times substring appears in the given string.\n",
    "string=\"Tegh is a baby. Tegh loves to play and Tegh loves to giggle\"\n",
    "substring=\"Tegh\"\n",
    "cnt=string.count(\"Tegh\")\n",
    "print(\"no of times substring appear is:\",cnt)\n",
    "\n",
    "\n",
    "    "
   ]
  },
  {
   "cell_type": "code",
   "execution_count": null,
   "id": "2d145834",
   "metadata": {},
   "outputs": [],
   "source": []
  }
 ],
 "metadata": {
  "kernelspec": {
   "display_name": "Python 3 (ipykernel)",
   "language": "python",
   "name": "python3"
  },
  "language_info": {
   "codemirror_mode": {
    "name": "ipython",
    "version": 3
   },
   "file_extension": ".py",
   "mimetype": "text/x-python",
   "name": "python",
   "nbconvert_exporter": "python",
   "pygments_lexer": "ipython3",
   "version": "3.9.7"
  }
 },
 "nbformat": 4,
 "nbformat_minor": 5
}
